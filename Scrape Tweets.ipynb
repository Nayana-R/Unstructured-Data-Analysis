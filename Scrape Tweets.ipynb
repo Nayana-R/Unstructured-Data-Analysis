{
 "cells": [
  {
   "cell_type": "code",
   "execution_count": 1,
   "metadata": {},
   "outputs": [],
   "source": [
    "import tweepy\n",
    "import pandas as pd\n",
    "import numpy as np\n",
    "import string\n",
    "from vaderSentiment.vaderSentiment import SentimentIntensityAnalyzer\n",
    "\n",
    "import time\n",
    "from datetime import date\n",
    "\n",
    "from sklearn import preprocessing\n",
    "from sklearn.feature_extraction.text import CountVectorizer, TfidfVectorizer\n",
    "from sklearn.model_selection import train_test_split\n",
    "from sklearn.naive_bayes import MultinomialNB\n",
    "from sklearn.metrics import accuracy_score\n",
    "\n",
    "import nltk\n",
    "from nltk.corpus import stopwords\n",
    "from nltk.stem.snowball import SnowballStemmer\n",
    "\n",
    "import matplotlib.pyplot as plt\n",
    "%matplotlib inline"
   ]
  },
  {
   "cell_type": "markdown",
   "metadata": {},
   "source": [
    "# Task 1: Scrape tweets for the hashtag '#datascience' and do the following: "
   ]
  },
  {
   "cell_type": "code",
   "execution_count": 2,
   "metadata": {},
   "outputs": [],
   "source": [
    "consumer_key = 'WLpXq0qf6ocVTyzwaqVunbYpp'\n",
    "consumer_secret = 'qV2tEsTQah2Ex4Y9PDcEWOuXScIWZ6H3yxRDmbqbh4SFZ7hUpa'\n",
    "\n",
    "access_token = '1112290132726411264-Aq7I5l2iNRBZh6khM07pmcIQ6gvM0a'\n",
    "access_secret = 'tfIHL8MVFDleMeF7azzc4my1MiPg1qPb55zZctyL1irgB'"
   ]
  },
  {
   "cell_type": "code",
   "execution_count": 3,
   "metadata": {},
   "outputs": [],
   "source": [
    "auth = tweepy.OAuthHandler(consumer_key, consumer_secret)\n",
    "auth.set_access_token(access_token, access_secret)\n",
    "api = tweepy.API(auth)"
   ]
  },
  {
   "cell_type": "code",
   "execution_count": 4,
   "metadata": {},
   "outputs": [
    {
     "data": {
      "text/plain": [
       "100"
      ]
     },
     "execution_count": 4,
     "metadata": {},
     "output_type": "execute_result"
    }
   ],
   "source": [
    "tweets = api.search(q = \"#datascience\", count = 1000, lang = 'en')\n",
    "len(tweets)"
   ]
  },
  {
   "cell_type": "code",
   "execution_count": 5,
   "metadata": {},
   "outputs": [
    {
     "name": "stdout",
     "output_type": "stream",
     "text": [
      "100\n",
      "100\n",
      "100\n",
      "100\n",
      "100\n"
     ]
    },
    {
     "data": {
      "text/plain": [
       "600"
      ]
     },
     "execution_count": 5,
     "metadata": {},
     "output_type": "execute_result"
    }
   ],
   "source": [
    "message, created_at, user_name = [], [], []\n",
    "\n",
    "for tweet in tweets:\n",
    "        message.append(tweet.text)\n",
    "        created_at.append(tweet.created_at)\n",
    "        user_name.append(tweet.user.name)\n",
    "        \n",
    "for i in range(5):\n",
    "    tweets = api.search(q = \"#datascience\", count = 1000, lang = 'en')\n",
    "    print(len(tweets))\n",
    "    \n",
    "    for tweet in tweets:\n",
    "        message.append(tweet.text)\n",
    "        created_at.append(tweet.created_at)\n",
    "        user_name.append(tweet.user.name)\n",
    "        \n",
    "    time.sleep(100)\n",
    "    \n",
    "len(message)"
   ]
  },
  {
   "cell_type": "code",
   "execution_count": 6,
   "metadata": {},
   "outputs": [
    {
     "data": {
      "text/html": [
       "<div>\n",
       "<style scoped>\n",
       "    .dataframe tbody tr th:only-of-type {\n",
       "        vertical-align: middle;\n",
       "    }\n",
       "\n",
       "    .dataframe tbody tr th {\n",
       "        vertical-align: top;\n",
       "    }\n",
       "\n",
       "    .dataframe thead th {\n",
       "        text-align: right;\n",
       "    }\n",
       "</style>\n",
       "<table border=\"1\" class=\"dataframe\">\n",
       "  <thead>\n",
       "    <tr style=\"text-align: right;\">\n",
       "      <th></th>\n",
       "      <th>Message</th>\n",
       "      <th>Created At</th>\n",
       "      <th>user_name</th>\n",
       "    </tr>\n",
       "  </thead>\n",
       "  <tbody>\n",
       "    <tr>\n",
       "      <th>0</th>\n",
       "      <td>#Recommendations on #health and #treatments fo...</td>\n",
       "      <td>2019-10-03 04:41:01</td>\n",
       "      <td>Soulpage</td>\n",
       "    </tr>\n",
       "    <tr>\n",
       "      <th>1</th>\n",
       "      <td>RT @GeniusCountry: DCVC’s biggest exits to dat...</td>\n",
       "      <td>2019-10-03 04:40:05</td>\n",
       "      <td>Gamer Geek</td>\n",
       "    </tr>\n",
       "    <tr>\n",
       "      <th>2</th>\n",
       "      <td>RT @ProgrammerBooks: Migrating to Swift from F...</td>\n",
       "      <td>2019-10-03 04:40:03</td>\n",
       "      <td>Cool Go</td>\n",
       "    </tr>\n",
       "    <tr>\n",
       "      <th>3</th>\n",
       "      <td>RT @Fisher85M: What is #OpenScience? {Infograp...</td>\n",
       "      <td>2019-10-03 04:39:57</td>\n",
       "      <td>Néxar Salazar</td>\n",
       "    </tr>\n",
       "    <tr>\n",
       "      <th>4</th>\n",
       "      <td>RT @gp_pulipaka: How to Calculate Precision, R...</td>\n",
       "      <td>2019-10-03 04:39:51</td>\n",
       "      <td>ArkangelScrap</td>\n",
       "    </tr>\n",
       "  </tbody>\n",
       "</table>\n",
       "</div>"
      ],
      "text/plain": [
       "                                             Message          Created At  \\\n",
       "0  #Recommendations on #health and #treatments fo... 2019-10-03 04:41:01   \n",
       "1  RT @GeniusCountry: DCVC’s biggest exits to dat... 2019-10-03 04:40:05   \n",
       "2  RT @ProgrammerBooks: Migrating to Swift from F... 2019-10-03 04:40:03   \n",
       "3  RT @Fisher85M: What is #OpenScience? {Infograp... 2019-10-03 04:39:57   \n",
       "4  RT @gp_pulipaka: How to Calculate Precision, R... 2019-10-03 04:39:51   \n",
       "\n",
       "       user_name  \n",
       "0       Soulpage  \n",
       "1     Gamer Geek  \n",
       "2        Cool Go  \n",
       "3  Néxar Salazar  \n",
       "4  ArkangelScrap  "
      ]
     },
     "execution_count": 6,
     "metadata": {},
     "output_type": "execute_result"
    }
   ],
   "source": [
    "df = pd.DataFrame({'Message' : message, 'Created At':created_at, 'user_name':user_name})\n",
    "df.head()"
   ]
  },
  {
   "cell_type": "code",
   "execution_count": 7,
   "metadata": {},
   "outputs": [
    {
     "data": {
      "text/plain": [
       "600"
      ]
     },
     "execution_count": 7,
     "metadata": {},
     "output_type": "execute_result"
    }
   ],
   "source": [
    "len(df)"
   ]
  },
  {
   "cell_type": "markdown",
   "metadata": {},
   "source": [
    "### Hour wise or minute wise (depending upon the scrapped tweets) number of tweets-draw a line chart. "
   ]
  },
  {
   "cell_type": "code",
   "execution_count": 8,
   "metadata": {},
   "outputs": [
    {
     "data": {
      "text/html": [
       "<div>\n",
       "<style scoped>\n",
       "    .dataframe tbody tr th:only-of-type {\n",
       "        vertical-align: middle;\n",
       "    }\n",
       "\n",
       "    .dataframe tbody tr th {\n",
       "        vertical-align: top;\n",
       "    }\n",
       "\n",
       "    .dataframe thead th {\n",
       "        text-align: right;\n",
       "    }\n",
       "</style>\n",
       "<table border=\"1\" class=\"dataframe\">\n",
       "  <thead>\n",
       "    <tr style=\"text-align: right;\">\n",
       "      <th></th>\n",
       "      <th>Message</th>\n",
       "      <th>Created At</th>\n",
       "      <th>user_name</th>\n",
       "      <th>date</th>\n",
       "      <th>minute</th>\n",
       "    </tr>\n",
       "  </thead>\n",
       "  <tbody>\n",
       "    <tr>\n",
       "      <th>0</th>\n",
       "      <td>#Recommendations on #health and #treatments fo...</td>\n",
       "      <td>2019-10-03 04:41:01</td>\n",
       "      <td>Soulpage</td>\n",
       "      <td>2019-10-03 04:41:01</td>\n",
       "      <td>41</td>\n",
       "    </tr>\n",
       "    <tr>\n",
       "      <th>1</th>\n",
       "      <td>RT @GeniusCountry: DCVC’s biggest exits to dat...</td>\n",
       "      <td>2019-10-03 04:40:05</td>\n",
       "      <td>Gamer Geek</td>\n",
       "      <td>2019-10-03 04:40:05</td>\n",
       "      <td>40</td>\n",
       "    </tr>\n",
       "    <tr>\n",
       "      <th>2</th>\n",
       "      <td>RT @ProgrammerBooks: Migrating to Swift from F...</td>\n",
       "      <td>2019-10-03 04:40:03</td>\n",
       "      <td>Cool Go</td>\n",
       "      <td>2019-10-03 04:40:03</td>\n",
       "      <td>40</td>\n",
       "    </tr>\n",
       "    <tr>\n",
       "      <th>3</th>\n",
       "      <td>RT @Fisher85M: What is #OpenScience? {Infograp...</td>\n",
       "      <td>2019-10-03 04:39:57</td>\n",
       "      <td>Néxar Salazar</td>\n",
       "      <td>2019-10-03 04:39:57</td>\n",
       "      <td>39</td>\n",
       "    </tr>\n",
       "    <tr>\n",
       "      <th>4</th>\n",
       "      <td>RT @gp_pulipaka: How to Calculate Precision, R...</td>\n",
       "      <td>2019-10-03 04:39:51</td>\n",
       "      <td>ArkangelScrap</td>\n",
       "      <td>2019-10-03 04:39:51</td>\n",
       "      <td>39</td>\n",
       "    </tr>\n",
       "  </tbody>\n",
       "</table>\n",
       "</div>"
      ],
      "text/plain": [
       "                                             Message          Created At  \\\n",
       "0  #Recommendations on #health and #treatments fo... 2019-10-03 04:41:01   \n",
       "1  RT @GeniusCountry: DCVC’s biggest exits to dat... 2019-10-03 04:40:05   \n",
       "2  RT @ProgrammerBooks: Migrating to Swift from F... 2019-10-03 04:40:03   \n",
       "3  RT @Fisher85M: What is #OpenScience? {Infograp... 2019-10-03 04:39:57   \n",
       "4  RT @gp_pulipaka: How to Calculate Precision, R... 2019-10-03 04:39:51   \n",
       "\n",
       "       user_name                date  minute  \n",
       "0       Soulpage 2019-10-03 04:41:01      41  \n",
       "1     Gamer Geek 2019-10-03 04:40:05      40  \n",
       "2        Cool Go 2019-10-03 04:40:03      40  \n",
       "3  Néxar Salazar 2019-10-03 04:39:57      39  \n",
       "4  ArkangelScrap 2019-10-03 04:39:51      39  "
      ]
     },
     "execution_count": 8,
     "metadata": {},
     "output_type": "execute_result"
    }
   ],
   "source": [
    "plt.rcParams['figure.figsize'] = (20, 5)\n",
    "\n",
    "df['date'] = pd.to_datetime(df['Created At'])\n",
    "df['minute'] = df['date'].dt.minute\n",
    "df.head()"
   ]
  },
  {
   "cell_type": "code",
   "execution_count": 9,
   "metadata": {},
   "outputs": [
    {
     "data": {
      "text/plain": [
       "<matplotlib.axes._subplots.AxesSubplot at 0x2662d3fbe10>"
      ]
     },
     "execution_count": 9,
     "metadata": {},
     "output_type": "execute_result"
    },
    {
     "data": {
      "image/png": "[encoded data removed]",
      "text/plain": [
       "<Figure size 1440x360 with 1 Axes>"
      ]
     },
     "metadata": {
      "needs_background": "light"
     },
     "output_type": "display_data"
    }
   ],
   "source": [
    "df['minute'].value_counts().sort_index().plot.line()"
   ]
  },
  {
   "cell_type": "markdown",
   "metadata": {},
   "source": [
    "### Top ten users with more number of tweets. "
   ]
  },
  {
   "cell_type": "code",
   "execution_count": 10,
   "metadata": {},
   "outputs": [
    {
     "data": {
      "text/html": [
       "<div>\n",
       "<style scoped>\n",
       "    .dataframe tbody tr th:only-of-type {\n",
       "        vertical-align: middle;\n",
       "    }\n",
       "\n",
       "    .dataframe tbody tr th {\n",
       "        vertical-align: top;\n",
       "    }\n",
       "\n",
       "    .dataframe thead th {\n",
       "        text-align: right;\n",
       "    }\n",
       "</style>\n",
       "<table border=\"1\" class=\"dataframe\">\n",
       "  <thead>\n",
       "    <tr style=\"text-align: right;\">\n",
       "      <th></th>\n",
       "      <th>user_name</th>\n",
       "      <th>count</th>\n",
       "    </tr>\n",
       "  </thead>\n",
       "  <tbody>\n",
       "    <tr>\n",
       "      <th>8</th>\n",
       "      <td>ArkangelScrap</td>\n",
       "      <td>22</td>\n",
       "    </tr>\n",
       "    <tr>\n",
       "      <th>67</th>\n",
       "      <td>Rstats</td>\n",
       "      <td>18</td>\n",
       "    </tr>\n",
       "    <tr>\n",
       "      <th>17</th>\n",
       "      <td>Curious Luke</td>\n",
       "      <td>18</td>\n",
       "    </tr>\n",
       "    <tr>\n",
       "      <th>27</th>\n",
       "      <td>Dr. GP Pulipaka</td>\n",
       "      <td>17</td>\n",
       "    </tr>\n",
       "    <tr>\n",
       "      <th>64</th>\n",
       "      <td>Raymond460</td>\n",
       "      <td>17</td>\n",
       "    </tr>\n",
       "    <tr>\n",
       "      <th>22</th>\n",
       "      <td>DeepSingularity</td>\n",
       "      <td>17</td>\n",
       "    </tr>\n",
       "    <tr>\n",
       "      <th>73</th>\n",
       "      <td>Serverless Fan</td>\n",
       "      <td>17</td>\n",
       "    </tr>\n",
       "    <tr>\n",
       "      <th>59</th>\n",
       "      <td>PhoenixCodes</td>\n",
       "      <td>15</td>\n",
       "    </tr>\n",
       "    <tr>\n",
       "      <th>92</th>\n",
       "      <td>🇿🇦 Wynand Booysen 💻 改善</td>\n",
       "      <td>14</td>\n",
       "    </tr>\n",
       "    <tr>\n",
       "      <th>53</th>\n",
       "      <td>Mr Data Scientist</td>\n",
       "      <td>13</td>\n",
       "    </tr>\n",
       "  </tbody>\n",
       "</table>\n",
       "</div>"
      ],
      "text/plain": [
       "                 user_name  count\n",
       "8            ArkangelScrap     22\n",
       "67                  Rstats     18\n",
       "17            Curious Luke     18\n",
       "27         Dr. GP Pulipaka     17\n",
       "64              Raymond460     17\n",
       "22         DeepSingularity     17\n",
       "73          Serverless Fan     17\n",
       "59            PhoenixCodes     15\n",
       "92  🇿🇦 Wynand Booysen 💻 改善     14\n",
       "53       Mr Data Scientist     13"
      ]
     },
     "execution_count": 10,
     "metadata": {},
     "output_type": "execute_result"
    }
   ],
   "source": [
    "user_df = df.groupby('user_name').size().reset_index()\n",
    "user_df = user_df.rename(columns = {0 :'count'})\n",
    "user_df = user_df.sort_values(by = 'count', ascending = False)\n",
    "user_df.head(10)"
   ]
  },
  {
   "cell_type": "markdown",
   "metadata": {},
   "source": [
    "### Create a new column in the data itself, to identity total number of hashtags in each tweet. "
   ]
  },
  {
   "cell_type": "code",
   "execution_count": 11,
   "metadata": {},
   "outputs": [
    {
     "data": {
      "text/html": [
       "<div>\n",
       "<style scoped>\n",
       "    .dataframe tbody tr th:only-of-type {\n",
       "        vertical-align: middle;\n",
       "    }\n",
       "\n",
       "    .dataframe tbody tr th {\n",
       "        vertical-align: top;\n",
       "    }\n",
       "\n",
       "    .dataframe thead th {\n",
       "        text-align: right;\n",
       "    }\n",
       "</style>\n",
       "<table border=\"1\" class=\"dataframe\">\n",
       "  <thead>\n",
       "    <tr style=\"text-align: right;\">\n",
       "      <th></th>\n",
       "      <th>Message</th>\n",
       "      <th>Created At</th>\n",
       "      <th>user_name</th>\n",
       "      <th>date</th>\n",
       "      <th>minute</th>\n",
       "      <th>count_hashtag</th>\n",
       "    </tr>\n",
       "  </thead>\n",
       "  <tbody>\n",
       "    <tr>\n",
       "      <th>0</th>\n",
       "      <td>#Recommendations on #health and #treatments fo...</td>\n",
       "      <td>2019-10-03 04:41:01</td>\n",
       "      <td>Soulpage</td>\n",
       "      <td>2019-10-03 04:41:01</td>\n",
       "      <td>41</td>\n",
       "      <td>5</td>\n",
       "    </tr>\n",
       "    <tr>\n",
       "      <th>1</th>\n",
       "      <td>RT @GeniusCountry: DCVC’s biggest exits to dat...</td>\n",
       "      <td>2019-10-03 04:40:05</td>\n",
       "      <td>Gamer Geek</td>\n",
       "      <td>2019-10-03 04:40:05</td>\n",
       "      <td>40</td>\n",
       "      <td>0</td>\n",
       "    </tr>\n",
       "    <tr>\n",
       "      <th>2</th>\n",
       "      <td>RT @ProgrammerBooks: Migrating to Swift from F...</td>\n",
       "      <td>2019-10-03 04:40:03</td>\n",
       "      <td>Cool Go</td>\n",
       "      <td>2019-10-03 04:40:03</td>\n",
       "      <td>40</td>\n",
       "      <td>4</td>\n",
       "    </tr>\n",
       "    <tr>\n",
       "      <th>3</th>\n",
       "      <td>RT @Fisher85M: What is #OpenScience? {Infograp...</td>\n",
       "      <td>2019-10-03 04:39:57</td>\n",
       "      <td>Néxar Salazar</td>\n",
       "      <td>2019-10-03 04:39:57</td>\n",
       "      <td>39</td>\n",
       "      <td>7</td>\n",
       "    </tr>\n",
       "    <tr>\n",
       "      <th>4</th>\n",
       "      <td>RT @gp_pulipaka: How to Calculate Precision, R...</td>\n",
       "      <td>2019-10-03 04:39:51</td>\n",
       "      <td>ArkangelScrap</td>\n",
       "      <td>2019-10-03 04:39:51</td>\n",
       "      <td>39</td>\n",
       "      <td>6</td>\n",
       "    </tr>\n",
       "  </tbody>\n",
       "</table>\n",
       "</div>"
      ],
      "text/plain": [
       "                                             Message          Created At  \\\n",
       "0  #Recommendations on #health and #treatments fo... 2019-10-03 04:41:01   \n",
       "1  RT @GeniusCountry: DCVC’s biggest exits to dat... 2019-10-03 04:40:05   \n",
       "2  RT @ProgrammerBooks: Migrating to Swift from F... 2019-10-03 04:40:03   \n",
       "3  RT @Fisher85M: What is #OpenScience? {Infograp... 2019-10-03 04:39:57   \n",
       "4  RT @gp_pulipaka: How to Calculate Precision, R... 2019-10-03 04:39:51   \n",
       "\n",
       "       user_name                date  minute  count_hashtag  \n",
       "0       Soulpage 2019-10-03 04:41:01      41              5  \n",
       "1     Gamer Geek 2019-10-03 04:40:05      40              0  \n",
       "2        Cool Go 2019-10-03 04:40:03      40              4  \n",
       "3  Néxar Salazar 2019-10-03 04:39:57      39              7  \n",
       "4  ArkangelScrap 2019-10-03 04:39:51      39              6  "
      ]
     },
     "execution_count": 11,
     "metadata": {},
     "output_type": "execute_result"
    }
   ],
   "source": [
    "def hashtags(val):\n",
    "    count = 0\n",
    "    words = val.split(' ')\n",
    "    for word in words:\n",
    "        if word.startswith('#'):\n",
    "            count = count + 1\n",
    "    return count\n",
    "\n",
    "df['count_hashtag'] = df['Message'].apply(hashtags)\n",
    "df.head()"
   ]
  },
  {
   "cell_type": "markdown",
   "metadata": {},
   "source": [
    "### Identity those users who have used '#datascience' as well as '#machinelearning'. Plot a bar chart of such top 10 users"
   ]
  },
  {
   "cell_type": "code",
   "execution_count": 12,
   "metadata": {},
   "outputs": [],
   "source": [
    "def find_hashtags(val):\n",
    "    words = val.split(' ')\n",
    "    if '#machinelearning' or '#MachineLearning' in words:\n",
    "        return 1\n",
    "    else:\n",
    "        return 0\n",
    "    \n",
    "df['is_tag'] = df['Message'].apply(find_hashtags)"
   ]
  },
  {
   "cell_type": "code",
   "execution_count": 13,
   "metadata": {},
   "outputs": [
    {
     "data": {
      "text/html": [
       "<div>\n",
       "<style scoped>\n",
       "    .dataframe tbody tr th:only-of-type {\n",
       "        vertical-align: middle;\n",
       "    }\n",
       "\n",
       "    .dataframe tbody tr th {\n",
       "        vertical-align: top;\n",
       "    }\n",
       "\n",
       "    .dataframe thead th {\n",
       "        text-align: right;\n",
       "    }\n",
       "</style>\n",
       "<table border=\"1\" class=\"dataframe\">\n",
       "  <thead>\n",
       "    <tr style=\"text-align: right;\">\n",
       "      <th></th>\n",
       "      <th>user_name</th>\n",
       "      <th>count</th>\n",
       "    </tr>\n",
       "  </thead>\n",
       "  <tbody>\n",
       "    <tr>\n",
       "      <th>8</th>\n",
       "      <td>ArkangelScrap</td>\n",
       "      <td>22</td>\n",
       "    </tr>\n",
       "    <tr>\n",
       "      <th>67</th>\n",
       "      <td>Rstats</td>\n",
       "      <td>18</td>\n",
       "    </tr>\n",
       "    <tr>\n",
       "      <th>17</th>\n",
       "      <td>Curious Luke</td>\n",
       "      <td>18</td>\n",
       "    </tr>\n",
       "    <tr>\n",
       "      <th>27</th>\n",
       "      <td>Dr. GP Pulipaka</td>\n",
       "      <td>17</td>\n",
       "    </tr>\n",
       "    <tr>\n",
       "      <th>64</th>\n",
       "      <td>Raymond460</td>\n",
       "      <td>17</td>\n",
       "    </tr>\n",
       "    <tr>\n",
       "      <th>22</th>\n",
       "      <td>DeepSingularity</td>\n",
       "      <td>17</td>\n",
       "    </tr>\n",
       "    <tr>\n",
       "      <th>73</th>\n",
       "      <td>Serverless Fan</td>\n",
       "      <td>17</td>\n",
       "    </tr>\n",
       "    <tr>\n",
       "      <th>59</th>\n",
       "      <td>PhoenixCodes</td>\n",
       "      <td>15</td>\n",
       "    </tr>\n",
       "    <tr>\n",
       "      <th>92</th>\n",
       "      <td>🇿🇦 Wynand Booysen 💻 改善</td>\n",
       "      <td>14</td>\n",
       "    </tr>\n",
       "    <tr>\n",
       "      <th>53</th>\n",
       "      <td>Mr Data Scientist</td>\n",
       "      <td>13</td>\n",
       "    </tr>\n",
       "  </tbody>\n",
       "</table>\n",
       "</div>"
      ],
      "text/plain": [
       "                 user_name  count\n",
       "8            ArkangelScrap     22\n",
       "67                  Rstats     18\n",
       "17            Curious Luke     18\n",
       "27         Dr. GP Pulipaka     17\n",
       "64              Raymond460     17\n",
       "22         DeepSingularity     17\n",
       "73          Serverless Fan     17\n",
       "59            PhoenixCodes     15\n",
       "92  🇿🇦 Wynand Booysen 💻 改善     14\n",
       "53       Mr Data Scientist     13"
      ]
     },
     "execution_count": 13,
     "metadata": {},
     "output_type": "execute_result"
    }
   ],
   "source": [
    "hashtag_df = df.groupby('user_name')['is_tag'].sum().reset_index()\n",
    "hashtag_df = hashtag_df.rename(columns = {'is_tag' : 'count'})\n",
    "hashtag_df = hashtag_df.sort_values(by = 'count', ascending = False)\n",
    "top_tags_df = hashtag_df.head(10)\n",
    "top_tags_df"
   ]
  },
  {
   "cell_type": "code",
   "execution_count": 14,
   "metadata": {},
   "outputs": [
    {
     "data": {
      "image/png": "[encoded data removed]",
      "text/plain": [
       "<Figure size 1440x360 with 1 Axes>"
      ]
     },
     "metadata": {
      "needs_background": "light"
     },
     "output_type": "display_data"
    }
   ],
   "source": [
    "plt.bar(top_tags_df['user_name'], top_tags_df['count'])\n",
    "plt.xlabel('User Name')\n",
    "plt.ylabel('Count')\n",
    "plt.title('Top 10 users who had used both \"#datascience\" and \"#machinelearning\" hashtags')\n",
    "plt.show()"
   ]
  },
  {
   "cell_type": "markdown",
   "metadata": {},
   "source": [
    "# Task 2: Using Narendra Modi’s tweet perform the following:"
   ]
  },
  {
   "cell_type": "markdown",
   "metadata": {},
   "source": [
    "#### Tasks: Using VADER calculate the Sentiment score: \n",
    "        \n",
    "    * Positive (score > 0.05)\n",
    "    * Negative (score < -0.05)\n",
    "    * Neutral (-0.05 <= score <= 0.05)\n",
    "    * Use Naïve Bayes to predict the sentiment and calculate the accuracy score\n",
    "    * Create a multi-line chart for comparing no. of positive, negative and neutral reviews for each day.\n",
    "    * Classify the following tweet: \n",
    "        “India is a great country. It has one of the oldest civilizations. It has its own heritage culture. People from different caste, creed, religion, speaking different languages stay together. However, with all the political parties trying to get votes, India has seen various caste or religion-based riots and protests.”\n"
   ]
  },
  {
   "cell_type": "code",
   "execution_count": 18,
   "metadata": {},
   "outputs": [
    {
     "data": {
      "text/html": [
       "<div>\n",
       "<style scoped>\n",
       "    .dataframe tbody tr th:only-of-type {\n",
       "        vertical-align: middle;\n",
       "    }\n",
       "\n",
       "    .dataframe tbody tr th {\n",
       "        vertical-align: top;\n",
       "    }\n",
       "\n",
       "    .dataframe thead th {\n",
       "        text-align: right;\n",
       "    }\n",
       "</style>\n",
       "<table border=\"1\" class=\"dataframe\">\n",
       "  <thead>\n",
       "    <tr style=\"text-align: right;\">\n",
       "      <th></th>\n",
       "      <th>id</th>\n",
       "      <th>retweets_count</th>\n",
       "      <th>favorite_count</th>\n",
       "      <th>created_at</th>\n",
       "      <th>text</th>\n",
       "      <th>lang</th>\n",
       "      <th>retweeted</th>\n",
       "      <th>followers_count</th>\n",
       "      <th>friends_count</th>\n",
       "      <th>hashtags_count</th>\n",
       "      <th>description</th>\n",
       "      <th>location</th>\n",
       "      <th>background_image_url</th>\n",
       "      <th>source</th>\n",
       "    </tr>\n",
       "  </thead>\n",
       "  <tbody>\n",
       "    <tr>\n",
       "      <th>0</th>\n",
       "      <td>8.260000e+17</td>\n",
       "      <td>1406</td>\n",
       "      <td>4903</td>\n",
       "      <td>31-01-2017 11:00</td>\n",
       "      <td>The President's address wonderfully encapsulat...</td>\n",
       "      <td>en</td>\n",
       "      <td>False</td>\n",
       "      <td>26809964</td>\n",
       "      <td>1641</td>\n",
       "      <td>1</td>\n",
       "      <td>Prime Minister of India</td>\n",
       "      <td>India</td>\n",
       "      <td>http://pbs.twimg.com/profile_background_images...</td>\n",
       "      <td>Twitter Web Client</td>\n",
       "    </tr>\n",
       "    <tr>\n",
       "      <th>1</th>\n",
       "      <td>8.260000e+17</td>\n",
       "      <td>907</td>\n",
       "      <td>2877</td>\n",
       "      <td>31-01-2017 10:59</td>\n",
       "      <td>Rashtrapati Ji's address to both Houses of Par...</td>\n",
       "      <td>en</td>\n",
       "      <td>False</td>\n",
       "      <td>26809964</td>\n",
       "      <td>1641</td>\n",
       "      <td>0</td>\n",
       "      <td>Prime Minister of India</td>\n",
       "      <td>India</td>\n",
       "      <td>http://pbs.twimg.com/profile_background_images...</td>\n",
       "      <td>Twitter Web Client</td>\n",
       "    </tr>\n",
       "  </tbody>\n",
       "</table>\n",
       "</div>"
      ],
      "text/plain": [
       "             id  retweets_count  favorite_count        created_at  \\\n",
       "0  8.260000e+17            1406            4903  31-01-2017 11:00   \n",
       "1  8.260000e+17             907            2877  31-01-2017 10:59   \n",
       "\n",
       "                                                text lang  retweeted  \\\n",
       "0  The President's address wonderfully encapsulat...   en      False   \n",
       "1  Rashtrapati Ji's address to both Houses of Par...   en      False   \n",
       "\n",
       "   followers_count  friends_count  hashtags_count              description  \\\n",
       "0         26809964           1641               1  Prime Minister of India   \n",
       "1         26809964           1641               0  Prime Minister of India   \n",
       "\n",
       "  location                               background_image_url  \\\n",
       "0    India  http://pbs.twimg.com/profile_background_images...   \n",
       "1    India  http://pbs.twimg.com/profile_background_images...   \n",
       "\n",
       "               source  \n",
       "0  Twitter Web Client  \n",
       "1  Twitter Web Client  "
      ]
     },
     "execution_count": 18,
     "metadata": {},
     "output_type": "execute_result"
    }
   ],
   "source": [
    "modi_df = pd.read_csv(r'D:\\NAYANA\\Term 3\\UDA\\Assignment\\Assignment 2\\Assignment 2\\narendramodi_tweets.csv')\n",
    "modi_df.head(2)"
   ]
  },
  {
   "cell_type": "code",
   "execution_count": 19,
   "metadata": {},
   "outputs": [
    {
     "name": "stdout",
     "output_type": "stream",
     "text": [
      "The President's address wonderfully encapsulated India's strengths, aspirations, potential &amp; the efforts towards #TransformingIndia.\n"
     ]
    }
   ],
   "source": [
    "stop = np.array(stopwords.words('english'))\n",
    "\n",
    "# Lets take the column review.text column\n",
    "\n",
    "text = modi_df[['text', 'created_at']]\n",
    "print(text['text'][0])"
   ]
  },
  {
   "cell_type": "code",
   "execution_count": 21,
   "metadata": {},
   "outputs": [
    {
     "name": "stderr",
     "output_type": "stream",
     "text": [
      "C:\\ProgramData\\Anaconda3\\lib\\site-packages\\ipykernel_launcher.py:7: SettingWithCopyWarning: \n",
      "A value is trying to be set on a copy of a slice from a DataFrame.\n",
      "Try using .loc[row_indexer,col_indexer] = value instead\n",
      "\n",
      "See the caveats in the documentation: http://pandas.pydata.org/pandas-docs/stable/indexing.html#indexing-view-versus-copy\n",
      "  import sys\n"
     ]
    },
    {
     "data": {
      "text/html": [
       "<div>\n",
       "<style scoped>\n",
       "    .dataframe tbody tr th:only-of-type {\n",
       "        vertical-align: middle;\n",
       "    }\n",
       "\n",
       "    .dataframe tbody tr th {\n",
       "        vertical-align: top;\n",
       "    }\n",
       "\n",
       "    .dataframe thead th {\n",
       "        text-align: right;\n",
       "    }\n",
       "</style>\n",
       "<table border=\"1\" class=\"dataframe\">\n",
       "  <thead>\n",
       "    <tr style=\"text-align: right;\">\n",
       "      <th></th>\n",
       "      <th>text</th>\n",
       "      <th>created_at</th>\n",
       "      <th>Polarity_score</th>\n",
       "    </tr>\n",
       "  </thead>\n",
       "  <tbody>\n",
       "    <tr>\n",
       "      <th>0</th>\n",
       "      <td>The President's address wonderfully encapsulat...</td>\n",
       "      <td>31-01-2017 11:00</td>\n",
       "      <td>0.7650</td>\n",
       "    </tr>\n",
       "    <tr>\n",
       "      <th>1</th>\n",
       "      <td>Rashtrapati Ji's address to both Houses of Par...</td>\n",
       "      <td>31-01-2017 10:59</td>\n",
       "      <td>0.0000</td>\n",
       "    </tr>\n",
       "    <tr>\n",
       "      <th>2</th>\n",
       "      <td>RT @PMOIndia: Empowering the marginalised. htt...</td>\n",
       "      <td>31-01-2017 10:52</td>\n",
       "      <td>0.0000</td>\n",
       "    </tr>\n",
       "    <tr>\n",
       "      <th>3</th>\n",
       "      <td>RT @PMOIndia: Commitment to welfare of farmers...</td>\n",
       "      <td>31-01-2017 10:52</td>\n",
       "      <td>0.3818</td>\n",
       "    </tr>\n",
       "    <tr>\n",
       "      <th>4</th>\n",
       "      <td>RT @PMOIndia: Improving the quality of life fo...</td>\n",
       "      <td>31-01-2017 10:52</td>\n",
       "      <td>-0.0772</td>\n",
       "    </tr>\n",
       "  </tbody>\n",
       "</table>\n",
       "</div>"
      ],
      "text/plain": [
       "                                                text        created_at  \\\n",
       "0  The President's address wonderfully encapsulat...  31-01-2017 11:00   \n",
       "1  Rashtrapati Ji's address to both Houses of Par...  31-01-2017 10:59   \n",
       "2  RT @PMOIndia: Empowering the marginalised. htt...  31-01-2017 10:52   \n",
       "3  RT @PMOIndia: Commitment to welfare of farmers...  31-01-2017 10:52   \n",
       "4  RT @PMOIndia: Improving the quality of life fo...  31-01-2017 10:52   \n",
       "\n",
       "   Polarity_score  \n",
       "0          0.7650  \n",
       "1          0.0000  \n",
       "2          0.0000  \n",
       "3          0.3818  \n",
       "4         -0.0772  "
      ]
     },
     "execution_count": 21,
     "metadata": {},
     "output_type": "execute_result"
    }
   ],
   "source": [
    "senti = SentimentIntensityAnalyzer()\n",
    "\n",
    "# Creating a function\n",
    "\n",
    "text_pol = lambda text: senti.polarity_scores(text)['compound']\n",
    "\n",
    "text['Polarity_score'] = text['text'].apply(text_pol)\n",
    "text.head()"
   ]
  },
  {
   "cell_type": "code",
   "execution_count": 22,
   "metadata": {},
   "outputs": [
    {
     "name": "stderr",
     "output_type": "stream",
     "text": [
      "C:\\ProgramData\\Anaconda3\\lib\\site-packages\\ipykernel_launcher.py:4: SettingWithCopyWarning: \n",
      "A value is trying to be set on a copy of a slice from a DataFrame.\n",
      "Try using .loc[row_indexer,col_indexer] = value instead\n",
      "\n",
      "See the caveats in the documentation: http://pandas.pydata.org/pandas-docs/stable/indexing.html#indexing-view-versus-copy\n",
      "  after removing the cwd from sys.path.\n",
      "C:\\ProgramData\\Anaconda3\\lib\\site-packages\\ipykernel_launcher.py:8: SettingWithCopyWarning: \n",
      "A value is trying to be set on a copy of a slice from a DataFrame.\n",
      "Try using .loc[row_indexer,col_indexer] = value instead\n",
      "\n",
      "See the caveats in the documentation: http://pandas.pydata.org/pandas-docs/stable/indexing.html#indexing-view-versus-copy\n",
      "  \n"
     ]
    },
    {
     "data": {
      "text/html": [
       "<div>\n",
       "<style scoped>\n",
       "    .dataframe tbody tr th:only-of-type {\n",
       "        vertical-align: middle;\n",
       "    }\n",
       "\n",
       "    .dataframe tbody tr th {\n",
       "        vertical-align: top;\n",
       "    }\n",
       "\n",
       "    .dataframe thead th {\n",
       "        text-align: right;\n",
       "    }\n",
       "</style>\n",
       "<table border=\"1\" class=\"dataframe\">\n",
       "  <thead>\n",
       "    <tr style=\"text-align: right;\">\n",
       "      <th></th>\n",
       "      <th>text</th>\n",
       "      <th>created_at</th>\n",
       "      <th>Polarity_score</th>\n",
       "      <th>Result</th>\n",
       "      <th>Sentiment</th>\n",
       "    </tr>\n",
       "  </thead>\n",
       "  <tbody>\n",
       "    <tr>\n",
       "      <th>0</th>\n",
       "      <td>The President's address wonderfully encapsulat...</td>\n",
       "      <td>31-01-2017 11:00</td>\n",
       "      <td>0.7650</td>\n",
       "      <td>3</td>\n",
       "      <td>Postive</td>\n",
       "    </tr>\n",
       "    <tr>\n",
       "      <th>1</th>\n",
       "      <td>Rashtrapati Ji's address to both Houses of Par...</td>\n",
       "      <td>31-01-2017 10:59</td>\n",
       "      <td>0.0000</td>\n",
       "      <td>2</td>\n",
       "      <td>Netural</td>\n",
       "    </tr>\n",
       "    <tr>\n",
       "      <th>2</th>\n",
       "      <td>RT @PMOIndia: Empowering the marginalised. htt...</td>\n",
       "      <td>31-01-2017 10:52</td>\n",
       "      <td>0.0000</td>\n",
       "      <td>2</td>\n",
       "      <td>Netural</td>\n",
       "    </tr>\n",
       "    <tr>\n",
       "      <th>3</th>\n",
       "      <td>RT @PMOIndia: Commitment to welfare of farmers...</td>\n",
       "      <td>31-01-2017 10:52</td>\n",
       "      <td>0.3818</td>\n",
       "      <td>3</td>\n",
       "      <td>Postive</td>\n",
       "    </tr>\n",
       "    <tr>\n",
       "      <th>4</th>\n",
       "      <td>RT @PMOIndia: Improving the quality of life fo...</td>\n",
       "      <td>31-01-2017 10:52</td>\n",
       "      <td>-0.0772</td>\n",
       "      <td>1</td>\n",
       "      <td>Negative</td>\n",
       "    </tr>\n",
       "  </tbody>\n",
       "</table>\n",
       "</div>"
      ],
      "text/plain": [
       "                                                text        created_at  \\\n",
       "0  The President's address wonderfully encapsulat...  31-01-2017 11:00   \n",
       "1  Rashtrapati Ji's address to both Houses of Par...  31-01-2017 10:59   \n",
       "2  RT @PMOIndia: Empowering the marginalised. htt...  31-01-2017 10:52   \n",
       "3  RT @PMOIndia: Commitment to welfare of farmers...  31-01-2017 10:52   \n",
       "4  RT @PMOIndia: Improving the quality of life fo...  31-01-2017 10:52   \n",
       "\n",
       "   Polarity_score  Result Sentiment  \n",
       "0          0.7650       3   Postive  \n",
       "1          0.0000       2   Netural  \n",
       "2          0.0000       2   Netural  \n",
       "3          0.3818       3   Postive  \n",
       "4         -0.0772       1  Negative  "
      ]
     },
     "execution_count": 22,
     "metadata": {},
     "output_type": "execute_result"
    }
   ],
   "source": [
    "dict = {1 : \"Negative\", 2 : \"Netural\", 3 : \"Postive\"}\n",
    "\n",
    "map_sentiment = lambda val: np.digitize(val, [-1, -0.05, 0.05])\n",
    "text['Result'] = text['Polarity_score'].apply(map_sentiment)\n",
    "\n",
    "# Replacing the label by num\n",
    "\n",
    "text['Sentiment'] = text['Result'].replace(dict)\n",
    "\n",
    "text.head()"
   ]
  },
  {
   "cell_type": "code",
   "execution_count": 23,
   "metadata": {},
   "outputs": [],
   "source": [
    "# Creating the train and test data\n",
    "\n",
    "X = text['text']\n",
    "Y = text['Result']"
   ]
  },
  {
   "cell_type": "code",
   "execution_count": 24,
   "metadata": {},
   "outputs": [],
   "source": [
    "x_train, x_test, y_train, y_test = train_test_split(X, Y, test_size = 0.2, random_state = 0)"
   ]
  },
  {
   "cell_type": "code",
   "execution_count": 25,
   "metadata": {},
   "outputs": [
    {
     "data": {
      "text/plain": [
       "727     RT @AkbaruddinIndia: Lighting up.\\r\\n@UN light...\n",
       "271     Every #DigiDhanMela is a fine way of learning ...\n",
       "2685    Sports complex inaugurated today will most cer...\n",
       "369     There is a separate section on Mobile App dedi...\n",
       "779     RT @MVenkaiahNaidu: #Sandesh2Soldiers Salute t...\n",
       "Name: text, dtype: object"
      ]
     },
     "execution_count": 25,
     "metadata": {},
     "output_type": "execute_result"
    }
   ],
   "source": [
    "x_train.head()"
   ]
  },
  {
   "cell_type": "code",
   "execution_count": 26,
   "metadata": {},
   "outputs": [
    {
     "data": {
      "text/plain": [
       "727     RT AkbaruddinIndia Lighting upUN lights up for...\n",
       "271     Every DigiDhanMela is a fine way of learning a...\n",
       "2685    Sports complex inaugurated today will most cer...\n",
       "369     There is a separate section on Mobile App dedi...\n",
       "779     RT MVenkaiahNaidu SandeshSoldiers Salute to ou...\n",
       "Name: text, dtype: object"
      ]
     },
     "execution_count": 26,
     "metadata": {},
     "output_type": "execute_result"
    }
   ],
   "source": [
    "# Cleaning the data - removing punctuation, numbers, converting everything to lower case etc\n",
    "\n",
    "x_train_new = x_train.str.replace('[^a-zA-Z ]', '')\n",
    "x_train_new.head()"
   ]
  },
  {
   "cell_type": "code",
   "execution_count": 27,
   "metadata": {},
   "outputs": [],
   "source": [
    "# Create a count vectorizer object\n",
    "\n",
    "tfidf_vectorizer = TfidfVectorizer()\n",
    "\n",
    "# Fit the count vectorizer using the text data\n",
    "\n",
    "tfidf_vectorizer.fit(x_train)\n",
    "\n",
    "# Collect the vocabulary items used in the vectorizer\n",
    "dictionary = tfidf_vectorizer.vocabulary_.items() "
   ]
  },
  {
   "cell_type": "code",
   "execution_count": 28,
   "metadata": {},
   "outputs": [
    {
     "data": {
      "text/plain": [
       "<2389x7759 sparse matrix of type '<class 'numpy.float64'>'\n",
       "\twith 41480 stored elements in Compressed Sparse Row format>"
      ]
     },
     "execution_count": 28,
     "metadata": {},
     "output_type": "execute_result"
    }
   ],
   "source": [
    "# Creating DTM\n",
    "\n",
    "x_train_vec = tfidf_vectorizer.fit_transform(x_train)\n",
    "x_train_vec"
   ]
  },
  {
   "cell_type": "code",
   "execution_count": 29,
   "metadata": {},
   "outputs": [
    {
     "data": {
      "text/plain": [
       "<598x7759 sparse matrix of type '<class 'numpy.float64'>'\n",
       "\twith 9269 stored elements in Compressed Sparse Row format>"
      ]
     },
     "execution_count": 29,
     "metadata": {},
     "output_type": "execute_result"
    }
   ],
   "source": [
    "# Build the model\n",
    "\n",
    "nb_model = MultinomialNB()\n",
    "\n",
    "# Fitting the model\n",
    "nb_model.fit(x_train_vec, y_train)\n",
    "\n",
    "x_test_vec = tfidf_vectorizer.transform(x_test)\n",
    "x_test_vec"
   ]
  },
  {
   "cell_type": "code",
   "execution_count": 30,
   "metadata": {},
   "outputs": [
    {
     "data": {
      "text/plain": [
       "array([3, 3, 3, 3, 3, 3, 3, 3, 3, 3, 3, 3, 3, 3, 3, 3, 3, 3, 3, 3, 3, 3,\n",
       "       3, 3, 3, 2, 3, 3, 3, 3, 3, 3, 3, 3, 3, 3, 3, 3, 3, 3, 3, 3, 3, 3,\n",
       "       3, 3, 3, 3, 3, 3, 3, 3, 3, 3, 3, 3, 2, 3, 3, 3, 3, 3, 3, 3, 3, 3,\n",
       "       3, 3, 3, 3, 2, 3, 3, 3, 3, 3, 3, 3, 3, 3, 3, 3, 3, 3, 3, 3, 3, 3,\n",
       "       3, 3, 3, 3, 3, 3, 3, 3, 3, 3, 3, 3, 3, 3, 3, 3, 3, 3, 2, 3, 3, 3,\n",
       "       3, 3, 3, 3, 3, 3, 3, 3, 3, 3, 3, 3, 3, 3, 3, 3, 3, 3, 3, 3, 2, 3,\n",
       "       3, 3, 3, 3, 3, 3, 3, 3, 3, 3, 3, 3, 3, 3, 3, 3, 3, 3, 3, 3, 3, 3,\n",
       "       3, 3, 3, 3, 3, 3, 3, 3, 3, 3, 3, 3, 3, 3, 3, 3, 3, 3, 3, 3, 3, 3,\n",
       "       3, 3, 3, 3, 3, 3, 3, 3, 3, 3, 3, 3, 3, 3, 3, 3, 3, 3, 3, 3, 3, 3,\n",
       "       3, 3, 3, 3, 3, 3, 3, 3, 3, 3, 3, 3, 3, 3, 3, 3, 3, 3, 3, 3, 3, 3,\n",
       "       3, 3, 3, 3, 3, 3, 3, 3, 3, 3, 3, 3, 3, 3, 3, 3, 3, 3, 3, 3, 3, 3,\n",
       "       3, 3, 3, 2, 3, 2, 3, 3, 3, 3, 3, 2, 3, 3, 2, 3, 3, 3, 3, 3, 3, 3,\n",
       "       3, 3, 3, 3, 3, 3, 2, 3, 3, 3, 3, 3, 3, 3, 3, 3, 3, 3, 3, 2, 3, 3,\n",
       "       2, 3, 3, 3, 3, 3, 3, 3, 3, 3, 3, 3, 3, 3, 3, 3, 3, 3, 3, 3, 3, 3,\n",
       "       3, 3, 3, 3, 3, 3, 3, 3, 3, 3, 3, 3, 3, 3, 3, 3, 3, 3, 3, 3, 3, 3,\n",
       "       3, 3, 3, 3, 3, 3, 3, 3, 3, 2, 3, 3, 3, 3, 3, 3, 3, 3, 3, 3, 3, 3,\n",
       "       3, 3, 3, 3, 3, 3, 3, 3, 3, 3, 3, 3, 3, 3, 3, 2, 3, 3, 3, 3, 3, 3,\n",
       "       3, 3, 3, 3, 3, 3, 3, 3, 3, 3, 2, 3, 3, 3, 3, 3, 3, 3, 3, 3, 3, 3,\n",
       "       3, 3, 3, 3, 3, 3, 3, 3, 3, 3, 3, 3, 3, 3, 3, 3, 3, 3, 3, 3, 3, 3,\n",
       "       3, 3, 3, 3, 3, 3, 3, 3, 3, 3, 3, 3, 3, 2, 3, 3, 3, 3, 3, 3, 2, 3,\n",
       "       3, 3, 3, 3, 3, 3, 2, 3, 3, 3, 3, 3, 3, 3, 3, 3, 3, 3, 3, 3, 3, 3,\n",
       "       3, 3, 3, 3, 3, 3, 3, 3, 3, 3, 3, 3, 3, 3, 3, 3, 3, 3, 3, 3, 3, 3,\n",
       "       3, 3, 3, 3, 3, 3, 2, 2, 3, 3, 3, 3, 3, 3, 3, 3, 3, 3, 3, 3, 3, 3,\n",
       "       2, 3, 3, 3, 3, 3, 3, 3, 3, 3, 3, 3, 3, 3, 3, 3, 3, 3, 3, 3, 3, 3,\n",
       "       3, 3, 3, 3, 3, 3, 3, 3, 3, 2, 3, 3, 3, 3, 3, 3, 3, 3, 3, 3, 3, 3,\n",
       "       3, 3, 3, 3, 3, 3, 3, 3, 3, 3, 3, 3, 3, 3, 3, 3, 3, 3, 3, 3, 3, 3,\n",
       "       3, 3, 3, 3, 3, 3, 3, 3, 3, 3, 3, 3, 3, 3, 3, 3, 3, 3, 2, 3, 3, 3,\n",
       "       3, 3, 3, 3], dtype=int64)"
      ]
     },
     "execution_count": 30,
     "metadata": {},
     "output_type": "execute_result"
    }
   ],
   "source": [
    "y_pred = nb_model.predict(x_test_vec)\n",
    "y_pred"
   ]
  },
  {
   "cell_type": "code",
   "execution_count": 31,
   "metadata": {},
   "outputs": [
    {
     "name": "stdout",
     "output_type": "stream",
     "text": [
      "0.697324414715719\n"
     ]
    }
   ],
   "source": [
    "# Checking the accuracy\n",
    "\n",
    "print(accuracy_score(y_test, y_pred))"
   ]
  },
  {
   "cell_type": "code",
   "execution_count": 32,
   "metadata": {},
   "outputs": [
    {
     "name": "stderr",
     "output_type": "stream",
     "text": [
      "C:\\ProgramData\\Anaconda3\\lib\\site-packages\\ipykernel_launcher.py:1: SettingWithCopyWarning: \n",
      "A value is trying to be set on a copy of a slice from a DataFrame.\n",
      "Try using .loc[row_indexer,col_indexer] = value instead\n",
      "\n",
      "See the caveats in the documentation: http://pandas.pydata.org/pandas-docs/stable/indexing.html#indexing-view-versus-copy\n",
      "  \"\"\"Entry point for launching an IPython kernel.\n",
      "C:\\ProgramData\\Anaconda3\\lib\\site-packages\\ipykernel_launcher.py:2: SettingWithCopyWarning: \n",
      "A value is trying to be set on a copy of a slice from a DataFrame.\n",
      "Try using .loc[row_indexer,col_indexer] = value instead\n",
      "\n",
      "See the caveats in the documentation: http://pandas.pydata.org/pandas-docs/stable/indexing.html#indexing-view-versus-copy\n",
      "  \n"
     ]
    },
    {
     "data": {
      "text/html": [
       "<div>\n",
       "<style scoped>\n",
       "    .dataframe tbody tr th:only-of-type {\n",
       "        vertical-align: middle;\n",
       "    }\n",
       "\n",
       "    .dataframe tbody tr th {\n",
       "        vertical-align: top;\n",
       "    }\n",
       "\n",
       "    .dataframe thead th {\n",
       "        text-align: right;\n",
       "    }\n",
       "</style>\n",
       "<table border=\"1\" class=\"dataframe\">\n",
       "  <thead>\n",
       "    <tr style=\"text-align: right;\">\n",
       "      <th></th>\n",
       "      <th>text</th>\n",
       "      <th>created_at</th>\n",
       "      <th>Polarity_score</th>\n",
       "      <th>Result</th>\n",
       "      <th>Sentiment</th>\n",
       "      <th>date</th>\n",
       "      <th>week</th>\n",
       "    </tr>\n",
       "  </thead>\n",
       "  <tbody>\n",
       "    <tr>\n",
       "      <th>0</th>\n",
       "      <td>The President's address wonderfully encapsulat...</td>\n",
       "      <td>31-01-2017 11:00</td>\n",
       "      <td>0.7650</td>\n",
       "      <td>3</td>\n",
       "      <td>Postive</td>\n",
       "      <td>2017-01-31 11:00:00</td>\n",
       "      <td>Tuesday</td>\n",
       "    </tr>\n",
       "    <tr>\n",
       "      <th>1</th>\n",
       "      <td>Rashtrapati Ji's address to both Houses of Par...</td>\n",
       "      <td>31-01-2017 10:59</td>\n",
       "      <td>0.0000</td>\n",
       "      <td>2</td>\n",
       "      <td>Netural</td>\n",
       "      <td>2017-01-31 10:59:00</td>\n",
       "      <td>Tuesday</td>\n",
       "    </tr>\n",
       "    <tr>\n",
       "      <th>2</th>\n",
       "      <td>RT @PMOIndia: Empowering the marginalised. htt...</td>\n",
       "      <td>31-01-2017 10:52</td>\n",
       "      <td>0.0000</td>\n",
       "      <td>2</td>\n",
       "      <td>Netural</td>\n",
       "      <td>2017-01-31 10:52:00</td>\n",
       "      <td>Tuesday</td>\n",
       "    </tr>\n",
       "    <tr>\n",
       "      <th>3</th>\n",
       "      <td>RT @PMOIndia: Commitment to welfare of farmers...</td>\n",
       "      <td>31-01-2017 10:52</td>\n",
       "      <td>0.3818</td>\n",
       "      <td>3</td>\n",
       "      <td>Postive</td>\n",
       "      <td>2017-01-31 10:52:00</td>\n",
       "      <td>Tuesday</td>\n",
       "    </tr>\n",
       "    <tr>\n",
       "      <th>4</th>\n",
       "      <td>RT @PMOIndia: Improving the quality of life fo...</td>\n",
       "      <td>31-01-2017 10:52</td>\n",
       "      <td>-0.0772</td>\n",
       "      <td>1</td>\n",
       "      <td>Negative</td>\n",
       "      <td>2017-01-31 10:52:00</td>\n",
       "      <td>Tuesday</td>\n",
       "    </tr>\n",
       "  </tbody>\n",
       "</table>\n",
       "</div>"
      ],
      "text/plain": [
       "                                                text        created_at  \\\n",
       "0  The President's address wonderfully encapsulat...  31-01-2017 11:00   \n",
       "1  Rashtrapati Ji's address to both Houses of Par...  31-01-2017 10:59   \n",
       "2  RT @PMOIndia: Empowering the marginalised. htt...  31-01-2017 10:52   \n",
       "3  RT @PMOIndia: Commitment to welfare of farmers...  31-01-2017 10:52   \n",
       "4  RT @PMOIndia: Improving the quality of life fo...  31-01-2017 10:52   \n",
       "\n",
       "   Polarity_score  Result Sentiment                date     week  \n",
       "0          0.7650       3   Postive 2017-01-31 11:00:00  Tuesday  \n",
       "1          0.0000       2   Netural 2017-01-31 10:59:00  Tuesday  \n",
       "2          0.0000       2   Netural 2017-01-31 10:52:00  Tuesday  \n",
       "3          0.3818       3   Postive 2017-01-31 10:52:00  Tuesday  \n",
       "4         -0.0772       1  Negative 2017-01-31 10:52:00  Tuesday  "
      ]
     },
     "execution_count": 32,
     "metadata": {},
     "output_type": "execute_result"
    }
   ],
   "source": [
    "text['date'] = pd.to_datetime(text['created_at'])\n",
    "text['week'] = text['date'].dt.weekday_name\n",
    "text.head()"
   ]
  },
  {
   "cell_type": "code",
   "execution_count": 33,
   "metadata": {},
   "outputs": [
    {
     "name": "stderr",
     "output_type": "stream",
     "text": [
      "C:\\ProgramData\\Anaconda3\\lib\\site-packages\\ipykernel_launcher.py:1: SettingWithCopyWarning: \n",
      "A value is trying to be set on a copy of a slice from a DataFrame.\n",
      "Try using .loc[row_indexer,col_indexer] = value instead\n",
      "\n",
      "See the caveats in the documentation: http://pandas.pydata.org/pandas-docs/stable/indexing.html#indexing-view-versus-copy\n",
      "  \"\"\"Entry point for launching an IPython kernel.\n",
      "C:\\ProgramData\\Anaconda3\\lib\\site-packages\\ipykernel_launcher.py:2: SettingWithCopyWarning: \n",
      "A value is trying to be set on a copy of a slice from a DataFrame.\n",
      "Try using .loc[row_indexer,col_indexer] = value instead\n",
      "\n",
      "See the caveats in the documentation: http://pandas.pydata.org/pandas-docs/stable/indexing.html#indexing-view-versus-copy\n",
      "  \n",
      "C:\\ProgramData\\Anaconda3\\lib\\site-packages\\ipykernel_launcher.py:3: SettingWithCopyWarning: \n",
      "A value is trying to be set on a copy of a slice from a DataFrame.\n",
      "Try using .loc[row_indexer,col_indexer] = value instead\n",
      "\n",
      "See the caveats in the documentation: http://pandas.pydata.org/pandas-docs/stable/indexing.html#indexing-view-versus-copy\n",
      "  This is separate from the ipykernel package so we can avoid doing imports until\n"
     ]
    }
   ],
   "source": [
    "text['positive'] = text['Result'].map(lambda x:1 if x == 3 else 0)\n",
    "text['netural'] = text['Result'].map(lambda x:1 if x == 2 else 0)\n",
    "text['negative'] = text['Result'].map(lambda x:1 if x == 1 else 0)"
   ]
  },
  {
   "cell_type": "code",
   "execution_count": 34,
   "metadata": {},
   "outputs": [],
   "source": [
    "text_positive = text.groupby('week')['positive'].sum().reset_index()\n",
    "text_negative = text.groupby('week')['negative'].sum().reset_index()\n",
    "text_netural = text.groupby('week')['netural'].sum().reset_index()"
   ]
  },
  {
   "cell_type": "code",
   "execution_count": 35,
   "metadata": {},
   "outputs": [
    {
     "data": {
      "text/plain": [
       "<matplotlib.legend.Legend at 0x2662dd74588>"
      ]
     },
     "execution_count": 35,
     "metadata": {},
     "output_type": "execute_result"
    },
    {
     "data": {
      "image/png": "[encoded data removed]",
      "text/plain": [
       "<Figure size 1440x720 with 1 Axes>"
      ]
     },
     "metadata": {
      "needs_background": "light"
     },
     "output_type": "display_data"
    }
   ],
   "source": [
    "plt.rcParams['figure.figsize'] = (20,10)\n",
    "\n",
    "# Multiple line plot\n",
    "\n",
    "plt.plot( text_positive['week'], text_positive['positive'], color = 'blue', linewidth = 2)\n",
    "plt.plot( text_negative['week'], text_negative['negative'], color = 'green', linewidth = 2)\n",
    "plt.plot( text_netural['week'], text_netural['netural'], color = 'red', linewidth = 2, linestyle = 'dashed', label = 'netural')\n",
    "plt.xlabel('Day of the week')\n",
    "plt.legend()"
   ]
  },
  {
   "cell_type": "code",
   "execution_count": 36,
   "metadata": {},
   "outputs": [
    {
     "data": {
      "text/plain": [
       "'India is a great country. It has one of the oldest civilizations. It has its own heritage culture. \\n    People from different caste, creed, religion, speaking different languages stay together. However, with all the \\n    political parties trying to get votes, India has seen various caste or religion-based riots and protests.'"
      ]
     },
     "execution_count": 36,
     "metadata": {},
     "output_type": "execute_result"
    }
   ],
   "source": [
    "str = '''India is a great country. It has one of the oldest civilizations. It has its own heritage culture. \n",
    "    People from different caste, creed, religion, speaking different languages stay together. However, with all the \n",
    "    political parties trying to get votes, India has seen various caste or religion-based riots and protests.'''\n",
    "str"
   ]
  },
  {
   "cell_type": "code",
   "execution_count": 37,
   "metadata": {},
   "outputs": [
    {
     "data": {
      "text/plain": [
       "0    India is a great country. It has one of the ol...\n",
       "dtype: object"
      ]
     },
     "execution_count": 37,
     "metadata": {},
     "output_type": "execute_result"
    }
   ],
   "source": [
    "new_str = str.replace('[^a-zA-Z ]', '')\n",
    "df_str = pd.Series(new_str)\n",
    "df_str"
   ]
  },
  {
   "cell_type": "code",
   "execution_count": 38,
   "metadata": {},
   "outputs": [
    {
     "data": {
      "text/plain": [
       "<1x7759 sparse matrix of type '<class 'numpy.float64'>'\n",
       "\twith 33 stored elements in Compressed Sparse Row format>"
      ]
     },
     "execution_count": 38,
     "metadata": {},
     "output_type": "execute_result"
    }
   ],
   "source": [
    "x_val_vec = tfidf_vectorizer.transform(df_str)\n",
    "x_val_vec"
   ]
  },
  {
   "cell_type": "code",
   "execution_count": 39,
   "metadata": {},
   "outputs": [
    {
     "data": {
      "text/plain": [
       "array([3], dtype=int64)"
      ]
     },
     "execution_count": 39,
     "metadata": {},
     "output_type": "execute_result"
    }
   ],
   "source": [
    "y_val_pred = nb_model.predict(x_val_vec)\n",
    "y_val_pred"
   ]
  },
  {
   "cell_type": "code",
   "execution_count": 41,
   "metadata": {},
   "outputs": [
    {
     "data": {
      "text/plain": [
       "0.3818"
      ]
     },
     "execution_count": 41,
     "metadata": {},
     "output_type": "execute_result"
    }
   ],
   "source": [
    "senti.polarity_scores(str)['compound']"
   ]
  },
  {
   "cell_type": "markdown",
   "metadata": {},
   "source": [
    "# ------------------------------------------------ END -------------------------------------------------------"
   ]
  }
 ],
 "metadata": {
  "kernelspec": {
   "display_name": "Python 3",
   "language": "python",
   "name": "python3"
  },
  "language_info": {
   "codemirror_mode": {
    "name": "ipython",
    "version": 3
   },
   "file_extension": ".py",
   "mimetype": "text/x-python",
   "name": "python",
   "nbconvert_exporter": "python",
   "pygments_lexer": "ipython3",
   "version": "3.7.1"
  }
 },
 "nbformat": 4,
 "nbformat_minor": 2
}
